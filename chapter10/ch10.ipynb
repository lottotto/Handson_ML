{
 "cells": [
  {
   "cell_type": "markdown",
   "metadata": {},
   "source": [
    "\n",
    "# Perceptrons"
   ]
  },
  {
   "cell_type": "code",
   "execution_count": 716,
   "metadata": {},
   "outputs": [],
   "source": [
    "import math\n",
    "import random\n",
    "import numpy as np\n",
    "import pickle as pkl\n",
    "import matplotlib.pyplot as plt\n",
    "%matplotlib inline\n",
    "from sklearn.datasets import load_iris\n",
    "from sklearn.linear_model import Perceptron\n",
    "\n",
    "def reset_graph(seed=43):\n",
    "    tf.reset_default_graph()\n",
    "    tf.set_random_seed(seed)\n",
    "    np.random.seed(seed)\n"
   ]
  },
  {
   "cell_type": "code",
   "execution_count": 717,
   "metadata": {},
   "outputs": [
    {
     "name": "stderr",
     "output_type": "stream",
     "text": [
      "/Users/home/.pyenv/versions/3.6.3/lib/python3.6/site-packages/sklearn/linear_model/stochastic_gradient.py:144: FutureWarning: max_iter and tol parameters have been added in Perceptron in 0.19. If both are left unset, they default to max_iter=5 and tol=None. If tol is not None, max_iter defaults to max_iter=1000. From 0.21, default max_iter will be 1000, and default tol will be 1e-3.\n",
      "  FutureWarning)\n"
     ]
    },
    {
     "data": {
      "text/plain": [
       "array([1])"
      ]
     },
     "execution_count": 717,
     "metadata": {},
     "output_type": "execute_result"
    }
   ],
   "source": [
    "iris = load_iris()\n",
    "X = iris.data[:,(2,3)]\n",
    "y = (iris.target == 0).astype(np.int)\n",
    "\n",
    "per_clf = Perceptron(random_state=42)\n",
    "per_clf.fit(X,y)\n",
    "y_pred = per_clf.predict([[2,0.5]])\n",
    "y_pred"
   ]
  },
  {
   "cell_type": "markdown",
   "metadata": {},
   "source": [
    "# Using plain TensorFlow"
   ]
  },
  {
   "cell_type": "code",
   "execution_count": 718,
   "metadata": {},
   "outputs": [],
   "source": [
    "(X_train, y_train), (X_test, y_test) = tf.keras.datasets.mnist.load_data()\n",
    "X_train = X_train.astype(np.float32).reshape(-1, 28*28) / 255.0\n",
    "X_test = X_test.astype(np.float32).reshape(-1, 28*28) / 255.0\n",
    "y_train = y_train.astype(np.int32)\n",
    "y_test = y_test.astype(np.int32)\n",
    "X_valid, X_train = X_train[:5000], X_train[5000:]\n",
    "y_valid, y_train = y_train[:5000], y_train[5000:]"
   ]
  },
  {
   "cell_type": "code",
   "execution_count": 735,
   "metadata": {},
   "outputs": [
    {
     "data": {
      "image/png": "[encoded data removed]",
      "text/plain": [
       "<matplotlib.figure.Figure at 0x11f25ef28>"
      ]
     },
     "metadata": {},
     "output_type": "display_data"
    },
    {
     "name": "stdout",
     "output_type": "stream",
     "text": [
      "(55000, 784)\n"
     ]
    }
   ],
   "source": [
    "plt.imshow((X_train[0].reshape(28,28)))\n",
    "plt.gray()\n",
    "plt.show()\n",
    "print(X_train.shape)"
   ]
  },
  {
   "cell_type": "code",
   "execution_count": 649,
   "metadata": {},
   "outputs": [],
   "source": [
    "from sklearn.model_selection import train_test_split\n",
    "\n",
    "def image_label_split(train_data_set, seed=43):\n",
    "    random.seed(seed)\n",
    "    random.shuffle(train_data_set)\n",
    "    labels = np.array(list(map(lambda x:x[0], train_data_set))).astype(np.int32)\n",
    "    images = (1-np.array(list(map(lambda x:x[1], train_data_set)))).reshape(-1,784)\n",
    "    return images, labels\n",
    "\n",
    "with open('/Users/home/disfor/OCR/OCR_System/Sandbox/train_num_data.pkl','rb') as f:\n",
    "    num_list = pkl.load(f)\n",
    "    \n",
    "num_images, num_labels = image_label_split(num_list)\n",
    "X_train, X_test, y_train, y_test = train_test_split(num_images, num_labels, test_size=0.33, random_state=42)\n",
    "X_valid = np.r_[X_train, X_test]\n",
    "y_valid = np.r_[y_train, y_test]"
   ]
  },
  {
   "cell_type": "code",
   "execution_count": 650,
   "metadata": {},
   "outputs": [
    {
     "data": {
      "image/png": "[encoded data removed]",
      "text/plain": [
       "<matplotlib.figure.Figure at 0x1260f4198>"
      ]
     },
     "metadata": {},
     "output_type": "display_data"
    }
   ],
   "source": [
    "plt.imshow((X_train[0].reshape(28,28)))\n",
    "plt.gray()\n",
    "plt.show()"
   ]
  },
  {
   "cell_type": "code",
   "execution_count": 720,
   "metadata": {},
   "outputs": [],
   "source": [
    "import tensorflow as tf\n",
    "\n",
    "reset_graph()\n",
    "\n",
    "n_inputs = 28 * 28\n",
    "n_hidden1 = 300\n",
    "n_hidden2 = 100\n",
    "n_outputs = 10\n"
   ]
  },
  {
   "cell_type": "code",
   "execution_count": 721,
   "metadata": {},
   "outputs": [],
   "source": [
    "from datetime import datetime\n",
    "now = datetime.utcnow().strftime(\"%Y%m%d%H%M%S\")\n",
    "root_logdir = \"tf_logs\"\n",
    "logdir = \"{}/run-{}\".format(root_logdir, now)"
   ]
  },
  {
   "cell_type": "code",
   "execution_count": 722,
   "metadata": {},
   "outputs": [],
   "source": [
    "X = tf.placeholder(dtype=tf.float32, shape=(None, n_inputs), name=\"X\")\n",
    "y = tf.placeholder(dtype=tf.int32, shape=(None), name=\"y\")"
   ]
  },
  {
   "cell_type": "code",
   "execution_count": 723,
   "metadata": {},
   "outputs": [],
   "source": [
    "def neuron_layer(X, n_neurons, name, activation=None):\n",
    "    with tf.name_scope(name):\n",
    "        n_inputs = int(X.get_shape()[1])\n",
    "        stddev = 2/np.sqrt(n_inputs)\n",
    "        init = tf.truncated_normal((n_inputs, n_neurons), stddev=stddev)\n",
    "        W = tf.Variable(initial_value=init, name=\"kernel\")\n",
    "        W = tf.Print(W, [W], message=\"{}/W is:\".format(name))\n",
    "        b = tf.Variable(tf.zeros([n_neurons]), name=\"bias\")\n",
    "        b = tf.Print(b, [b], message=\"{}/b is:\".format(name))\n",
    "        Z = tf.matmul(X, W) + b\n",
    "        z = tf.Print(Z, [Z], message=\"{}/Z is:\".format(name))\n",
    "        if activation is not None:\n",
    "            return activation(Z)\n",
    "        else:\n",
    "            return Z"
   ]
  },
  {
   "cell_type": "code",
   "execution_count": 724,
   "metadata": {},
   "outputs": [],
   "source": [
    "with tf.name_scope(\"dnn\"):\n",
    "    hidden1 = neuron_layer(X, n_hidden1, name=\"hidden1\", activation=tf.nn.relu)\n",
    "    hidden2 = neuron_layer(hidden1, n_hidden2, name=\"hidden2\", activation=tf.nn.relu)\n",
    "    logits = neuron_layer(hidden2, n_outputs, name=\"outputs\")\n",
    "    logits_softmax = tf.nn.softmax(logits, name=\"softmax\")"
   ]
  },
  {
   "cell_type": "code",
   "execution_count": 725,
   "metadata": {},
   "outputs": [],
   "source": [
    "with tf.name_scope(\"loss\"):\n",
    "    one_hot_label = tf.one_hot(indices=y, depth=n_outputs)\n",
    "    cross_entropy = -tf.reduce_sum(one_hot_label*tf.log(tf.clip_by_value(logits,1e-10,1.0)))\n",
    "#     xentropy = tf.nn.sparse_softmax_cross_entropy_with_logits(labels=y,logits=logits)\n",
    "    loss = tf.reduce_mean(cross_entropy, name=\"loss\")"
   ]
  },
  {
   "cell_type": "code",
   "execution_count": 726,
   "metadata": {},
   "outputs": [],
   "source": [
    "learning_rate = 0.0001\n",
    "\n",
    "with tf.name_scope(\"train\"):\n",
    "    optimizer = tf.train.AdamOptimizer(learning_rate)\n",
    "    training_op = optimizer.minimize(loss)"
   ]
  },
  {
   "cell_type": "code",
   "execution_count": 727,
   "metadata": {},
   "outputs": [],
   "source": [
    "with tf.name_scope(\"eval\"):\n",
    "    correct = tf.nn.in_top_k(logits, y, 1)\n",
    "    accuracy = tf.reduce_mean(tf.cast(correct, tf.float32))"
   ]
  },
  {
   "cell_type": "code",
   "execution_count": 728,
   "metadata": {},
   "outputs": [],
   "source": [
    "loss_summary = tf.summary.scalar('loss',loss)\n",
    "acc_summary = tf.summary.scalar('acc', accuracy)\n",
    "file_writer = tf.summary.FileWriter(logdir, tf.get_default_graph())"
   ]
  },
  {
   "cell_type": "code",
   "execution_count": 729,
   "metadata": {},
   "outputs": [],
   "source": [
    "init = tf.global_variables_initializer()\n",
    "saver = tf.train.Saver()"
   ]
  },
  {
   "cell_type": "code",
   "execution_count": 730,
   "metadata": {},
   "outputs": [],
   "source": [
    "n_epochs = 40\n",
    "batch_size = 50"
   ]
  },
  {
   "cell_type": "code",
   "execution_count": 731,
   "metadata": {},
   "outputs": [],
   "source": [
    "def shuffle_batch(X, y, batch_size):\n",
    "    rnd_idx = np.random.permutation(len(X))\n",
    "    n_batches = len(X)//batch_size\n",
    "    for batch_idx in np.array_split(rnd_idx,n_batches):\n",
    "        X_batch, y_batch = X[batch_idx], y[batch_idx]\n",
    "        yield X_batch, y_batch"
   ]
  },
  {
   "cell_type": "code",
   "execution_count": 732,
   "metadata": {
    "scrolled": false
   },
   "outputs": [
    {
     "name": "stdout",
     "output_type": "stream",
     "text": [
      "0 Batch accuracy: 0.4 Val accuracy: 0.3726 Loss: 10643.452\n",
      "1 Batch accuracy: 0.46 Val accuracy: 0.3626 Loss: 10638.709\n",
      "2 Batch accuracy: 0.32 Val accuracy: 0.2588 Loss: 1.0358872\n",
      "3 Batch accuracy: 0.34 Val accuracy: 0.2736 Loss: 0.22887671\n",
      "4 Batch accuracy: 0.3 Val accuracy: 0.275 Loss: 0.18275973\n",
      "5 Batch accuracy: 0.34 Val accuracy: 0.2752 Loss: 0.108310424\n",
      "6 Batch accuracy: 0.32 Val accuracy: 0.2726 Loss: 0.058609277\n",
      "7 Batch accuracy: 0.28 Val accuracy: 0.2708 Loss: 0.030670827\n",
      "8 Batch accuracy: 0.14 Val accuracy: 0.2708 Loss: 0.030670827\n",
      "9 Batch accuracy: 0.24 Val accuracy: 0.2708 Loss: 0.030670827\n",
      "10 Batch accuracy: 0.16 Val accuracy: 0.2708 Loss: 0.030670827\n",
      "11 Batch accuracy: 0.24 Val accuracy: 0.2708 Loss: 0.030670827\n",
      "12 Batch accuracy: 0.24 Val accuracy: 0.2708 Loss: 0.030670827\n"
     ]
    },
    {
     "ename": "KeyboardInterrupt",
     "evalue": "",
     "output_type": "error",
     "traceback": [
      "\u001b[0;31m---------------------------------------------------------------------------\u001b[0m",
      "\u001b[0;31mKeyboardInterrupt\u001b[0m                         Traceback (most recent call last)",
      "\u001b[0;32m<ipython-input-732-4c159d704e76>\u001b[0m in \u001b[0;36m<module>\u001b[0;34m()\u001b[0m\n\u001b[1;32m      3\u001b[0m \u001b[0;32mfor\u001b[0m \u001b[0mepoch\u001b[0m \u001b[0;32min\u001b[0m \u001b[0mrange\u001b[0m\u001b[0;34m(\u001b[0m\u001b[0mn_epochs\u001b[0m\u001b[0;34m)\u001b[0m\u001b[0;34m:\u001b[0m\u001b[0;34m\u001b[0m\u001b[0m\n\u001b[1;32m      4\u001b[0m     \u001b[0;32mfor\u001b[0m \u001b[0mX_batch\u001b[0m\u001b[0;34m,\u001b[0m \u001b[0my_batch\u001b[0m \u001b[0;32min\u001b[0m \u001b[0mshuffle_batch\u001b[0m\u001b[0;34m(\u001b[0m\u001b[0mX_train\u001b[0m\u001b[0;34m,\u001b[0m \u001b[0my_train\u001b[0m\u001b[0;34m,\u001b[0m \u001b[0mbatch_size\u001b[0m\u001b[0;34m)\u001b[0m\u001b[0;34m:\u001b[0m\u001b[0;34m\u001b[0m\u001b[0m\n\u001b[0;32m----> 5\u001b[0;31m         \u001b[0msess\u001b[0m\u001b[0;34m.\u001b[0m\u001b[0mrun\u001b[0m\u001b[0;34m(\u001b[0m\u001b[0mtraining_op\u001b[0m\u001b[0;34m,\u001b[0m \u001b[0mfeed_dict\u001b[0m\u001b[0;34m=\u001b[0m\u001b[0;34m{\u001b[0m\u001b[0mX\u001b[0m\u001b[0;34m:\u001b[0m\u001b[0mX_batch\u001b[0m\u001b[0;34m,\u001b[0m \u001b[0my\u001b[0m\u001b[0;34m:\u001b[0m\u001b[0my_batch\u001b[0m\u001b[0;34m}\u001b[0m\u001b[0;34m)\u001b[0m\u001b[0;34m\u001b[0m\u001b[0m\n\u001b[0m\u001b[1;32m      6\u001b[0m     \u001b[0macc_batch\u001b[0m \u001b[0;34m=\u001b[0m \u001b[0maccuracy\u001b[0m\u001b[0;34m.\u001b[0m\u001b[0meval\u001b[0m\u001b[0;34m(\u001b[0m\u001b[0mfeed_dict\u001b[0m\u001b[0;34m=\u001b[0m\u001b[0;34m{\u001b[0m\u001b[0mX\u001b[0m\u001b[0;34m:\u001b[0m\u001b[0mX_batch\u001b[0m\u001b[0;34m,\u001b[0m \u001b[0my\u001b[0m\u001b[0;34m:\u001b[0m\u001b[0my_batch\u001b[0m\u001b[0;34m}\u001b[0m\u001b[0;34m,\u001b[0m\u001b[0msession\u001b[0m\u001b[0;34m=\u001b[0m\u001b[0msess\u001b[0m\u001b[0;34m)\u001b[0m\u001b[0;34m\u001b[0m\u001b[0m\n\u001b[1;32m      7\u001b[0m     \u001b[0macc_val\u001b[0m \u001b[0;34m=\u001b[0m \u001b[0maccuracy\u001b[0m\u001b[0;34m.\u001b[0m\u001b[0meval\u001b[0m\u001b[0;34m(\u001b[0m\u001b[0mfeed_dict\u001b[0m\u001b[0;34m=\u001b[0m\u001b[0;34m{\u001b[0m\u001b[0mX\u001b[0m\u001b[0;34m:\u001b[0m \u001b[0mX_valid\u001b[0m\u001b[0;34m,\u001b[0m \u001b[0my\u001b[0m\u001b[0;34m:\u001b[0m \u001b[0my_valid\u001b[0m\u001b[0;34m}\u001b[0m\u001b[0;34m,\u001b[0m\u001b[0msession\u001b[0m\u001b[0;34m=\u001b[0m\u001b[0msess\u001b[0m\u001b[0;34m)\u001b[0m\u001b[0;34m\u001b[0m\u001b[0m\n",
      "\u001b[0;32m~/.pyenv/versions/3.6.3/lib/python3.6/site-packages/tensorflow/python/client/session.py\u001b[0m in \u001b[0;36mrun\u001b[0;34m(self, fetches, feed_dict, options, run_metadata)\u001b[0m\n\u001b[1;32m    887\u001b[0m     \u001b[0;32mtry\u001b[0m\u001b[0;34m:\u001b[0m\u001b[0;34m\u001b[0m\u001b[0m\n\u001b[1;32m    888\u001b[0m       result = self._run(None, fetches, feed_dict, options_ptr,\n\u001b[0;32m--> 889\u001b[0;31m                          run_metadata_ptr)\n\u001b[0m\u001b[1;32m    890\u001b[0m       \u001b[0;32mif\u001b[0m \u001b[0mrun_metadata\u001b[0m\u001b[0;34m:\u001b[0m\u001b[0;34m\u001b[0m\u001b[0m\n\u001b[1;32m    891\u001b[0m         \u001b[0mproto_data\u001b[0m \u001b[0;34m=\u001b[0m \u001b[0mtf_session\u001b[0m\u001b[0;34m.\u001b[0m\u001b[0mTF_GetBuffer\u001b[0m\u001b[0;34m(\u001b[0m\u001b[0mrun_metadata_ptr\u001b[0m\u001b[0;34m)\u001b[0m\u001b[0;34m\u001b[0m\u001b[0m\n",
      "\u001b[0;32m~/.pyenv/versions/3.6.3/lib/python3.6/site-packages/tensorflow/python/client/session.py\u001b[0m in \u001b[0;36m_run\u001b[0;34m(self, handle, fetches, feed_dict, options, run_metadata)\u001b[0m\n\u001b[1;32m   1118\u001b[0m     \u001b[0;32mif\u001b[0m \u001b[0mfinal_fetches\u001b[0m \u001b[0;32mor\u001b[0m \u001b[0mfinal_targets\u001b[0m \u001b[0;32mor\u001b[0m \u001b[0;34m(\u001b[0m\u001b[0mhandle\u001b[0m \u001b[0;32mand\u001b[0m \u001b[0mfeed_dict_tensor\u001b[0m\u001b[0;34m)\u001b[0m\u001b[0;34m:\u001b[0m\u001b[0;34m\u001b[0m\u001b[0m\n\u001b[1;32m   1119\u001b[0m       results = self._do_run(handle, final_targets, final_fetches,\n\u001b[0;32m-> 1120\u001b[0;31m                              feed_dict_tensor, options, run_metadata)\n\u001b[0m\u001b[1;32m   1121\u001b[0m     \u001b[0;32melse\u001b[0m\u001b[0;34m:\u001b[0m\u001b[0;34m\u001b[0m\u001b[0m\n\u001b[1;32m   1122\u001b[0m       \u001b[0mresults\u001b[0m \u001b[0;34m=\u001b[0m \u001b[0;34m[\u001b[0m\u001b[0;34m]\u001b[0m\u001b[0;34m\u001b[0m\u001b[0m\n",
      "\u001b[0;32m~/.pyenv/versions/3.6.3/lib/python3.6/site-packages/tensorflow/python/client/session.py\u001b[0m in \u001b[0;36m_do_run\u001b[0;34m(self, handle, target_list, fetch_list, feed_dict, options, run_metadata)\u001b[0m\n\u001b[1;32m   1315\u001b[0m     \u001b[0;32mif\u001b[0m \u001b[0mhandle\u001b[0m \u001b[0;32mis\u001b[0m \u001b[0;32mNone\u001b[0m\u001b[0;34m:\u001b[0m\u001b[0;34m\u001b[0m\u001b[0m\n\u001b[1;32m   1316\u001b[0m       return self._do_call(_run_fn, self._session, feeds, fetches, targets,\n\u001b[0;32m-> 1317\u001b[0;31m                            options, run_metadata)\n\u001b[0m\u001b[1;32m   1318\u001b[0m     \u001b[0;32melse\u001b[0m\u001b[0;34m:\u001b[0m\u001b[0;34m\u001b[0m\u001b[0m\n\u001b[1;32m   1319\u001b[0m       \u001b[0;32mreturn\u001b[0m \u001b[0mself\u001b[0m\u001b[0;34m.\u001b[0m\u001b[0m_do_call\u001b[0m\u001b[0;34m(\u001b[0m\u001b[0m_prun_fn\u001b[0m\u001b[0;34m,\u001b[0m \u001b[0mself\u001b[0m\u001b[0;34m.\u001b[0m\u001b[0m_session\u001b[0m\u001b[0;34m,\u001b[0m \u001b[0mhandle\u001b[0m\u001b[0;34m,\u001b[0m \u001b[0mfeeds\u001b[0m\u001b[0;34m,\u001b[0m \u001b[0mfetches\u001b[0m\u001b[0;34m)\u001b[0m\u001b[0;34m\u001b[0m\u001b[0m\n",
      "\u001b[0;32m~/.pyenv/versions/3.6.3/lib/python3.6/site-packages/tensorflow/python/client/session.py\u001b[0m in \u001b[0;36m_do_call\u001b[0;34m(self, fn, *args)\u001b[0m\n\u001b[1;32m   1321\u001b[0m   \u001b[0;32mdef\u001b[0m \u001b[0m_do_call\u001b[0m\u001b[0;34m(\u001b[0m\u001b[0mself\u001b[0m\u001b[0;34m,\u001b[0m \u001b[0mfn\u001b[0m\u001b[0;34m,\u001b[0m \u001b[0;34m*\u001b[0m\u001b[0margs\u001b[0m\u001b[0;34m)\u001b[0m\u001b[0;34m:\u001b[0m\u001b[0;34m\u001b[0m\u001b[0m\n\u001b[1;32m   1322\u001b[0m     \u001b[0;32mtry\u001b[0m\u001b[0;34m:\u001b[0m\u001b[0;34m\u001b[0m\u001b[0m\n\u001b[0;32m-> 1323\u001b[0;31m       \u001b[0;32mreturn\u001b[0m \u001b[0mfn\u001b[0m\u001b[0;34m(\u001b[0m\u001b[0;34m*\u001b[0m\u001b[0margs\u001b[0m\u001b[0;34m)\u001b[0m\u001b[0;34m\u001b[0m\u001b[0m\n\u001b[0m\u001b[1;32m   1324\u001b[0m     \u001b[0;32mexcept\u001b[0m \u001b[0merrors\u001b[0m\u001b[0;34m.\u001b[0m\u001b[0mOpError\u001b[0m \u001b[0;32mas\u001b[0m \u001b[0me\u001b[0m\u001b[0;34m:\u001b[0m\u001b[0;34m\u001b[0m\u001b[0m\n\u001b[1;32m   1325\u001b[0m       \u001b[0mmessage\u001b[0m \u001b[0;34m=\u001b[0m \u001b[0mcompat\u001b[0m\u001b[0;34m.\u001b[0m\u001b[0mas_text\u001b[0m\u001b[0;34m(\u001b[0m\u001b[0me\u001b[0m\u001b[0;34m.\u001b[0m\u001b[0mmessage\u001b[0m\u001b[0;34m)\u001b[0m\u001b[0;34m\u001b[0m\u001b[0m\n",
      "\u001b[0;32m~/.pyenv/versions/3.6.3/lib/python3.6/site-packages/tensorflow/python/client/session.py\u001b[0m in \u001b[0;36m_run_fn\u001b[0;34m(session, feed_dict, fetch_list, target_list, options, run_metadata)\u001b[0m\n\u001b[1;32m   1300\u001b[0m           return tf_session.TF_Run(session, options,\n\u001b[1;32m   1301\u001b[0m                                    \u001b[0mfeed_dict\u001b[0m\u001b[0;34m,\u001b[0m \u001b[0mfetch_list\u001b[0m\u001b[0;34m,\u001b[0m \u001b[0mtarget_list\u001b[0m\u001b[0;34m,\u001b[0m\u001b[0;34m\u001b[0m\u001b[0m\n\u001b[0;32m-> 1302\u001b[0;31m                                    status, run_metadata)\n\u001b[0m\u001b[1;32m   1303\u001b[0m \u001b[0;34m\u001b[0m\u001b[0m\n\u001b[1;32m   1304\u001b[0m     \u001b[0;32mdef\u001b[0m \u001b[0m_prun_fn\u001b[0m\u001b[0;34m(\u001b[0m\u001b[0msession\u001b[0m\u001b[0;34m,\u001b[0m \u001b[0mhandle\u001b[0m\u001b[0;34m,\u001b[0m \u001b[0mfeed_dict\u001b[0m\u001b[0;34m,\u001b[0m \u001b[0mfetch_list\u001b[0m\u001b[0;34m)\u001b[0m\u001b[0;34m:\u001b[0m\u001b[0;34m\u001b[0m\u001b[0m\n",
      "\u001b[0;31mKeyboardInterrupt\u001b[0m: "
     ]
    }
   ],
   "source": [
    "sess = tf.Session()\n",
    "sess.run(init)\n",
    "for epoch in range(n_epochs):\n",
    "    for X_batch, y_batch in shuffle_batch(X_train, y_train, batch_size):\n",
    "        sess.run(training_op, feed_dict={X:X_batch, y:y_batch})\n",
    "    acc_batch = accuracy.eval(feed_dict={X:X_batch, y:y_batch},session=sess)\n",
    "    acc_val = accuracy.eval(feed_dict={X: X_valid, y: y_valid},session=sess)\n",
    "    loss_val = loss.eval(feed_dict={X: X_valid, y: y_valid},session=sess)\n",
    "    loss_summary_str = loss_summary.eval(feed_dict={X:X_valid, y:y_valid},session=sess)\n",
    "    acc_summary_str = acc_summary.eval(feed_dict={X:X_valid, y:y_valid},session=sess)\n",
    "    file_writer.add_summary(loss_summary_str, epoch)\n",
    "    file_writer.add_summary(acc_summary_str, epoch)\n",
    "    print(epoch, \"Batch accuracy:\", acc_batch, \"Val accuracy:\", acc_val, \"Loss:\", loss_val)\n",
    "\n",
    "save_path = saver.save(sess, \"./my_model_final.ckpt\")\n",
    "    \n",
    "file_writer.close()"
   ]
  },
  {
   "cell_type": "code",
   "execution_count": 556,
   "metadata": {
    "scrolled": true
   },
   "outputs": [
    {
     "name": "stdout",
     "output_type": "stream",
     "text": [
      "Batch accuracy:0.3333333432674408, Val accuracy:0.19352634251117706\n",
      ", Xentropy:[3.3674397  1.5905359  0.8521459  3.4229007  1.2097989  1.7711446\n",
      " 2.783839   1.9699447  1.4667255  1.591632   0.25885314 1.5339098\n",
      " 3.2825532  1.8922919  1.383898   2.4292188  1.280846   1.6641984\n",
      " 2.1796403  2.179112   0.9692587  3.1401553  2.5127285  0.57596785\n",
      " 2.0923498  0.76977754 1.8379896  5.5985703  1.392161   5.4017124\n",
      " 2.242055   0.8815097  2.1552775  2.1202865  0.55056727 3.4202297\n",
      " 0.96559346 1.5197865  0.49532574 1.7150338  4.64835    0.4959902\n",
      " 1.1436117  1.6439409  1.7670097  3.89254    0.76071906 0.66533035\n",
      " 2.0993185  0.25570047 1.4476595 ], Loss:1.9075908660888672\n",
      "Batch accuracy:0.27450981736183167, Val accuracy:0.1342983990907669\n",
      ", Xentropy:[2.3974345  2.2832923  1.2085657  3.1848931  0.40993863 1.7066187\n",
      " 2.05134    1.1569947  0.56486666 1.0577265  1.0539567  1.2686472\n",
      " 1.9456232  3.6681542  2.6825535  3.3648148  1.1268256  1.0545954\n",
      " 2.6664476  2.8740416  1.7103703  2.8365626  1.8822885  1.4904822\n",
      " 3.1594143  2.3446574  2.8871727  2.9087577  3.5318012  2.3411317\n",
      " 3.1624928  2.535839   3.766935   0.15985587 1.8489046  2.316492\n",
      " 1.8714508  2.7633958  2.7967243  2.2448764  3.0937366  4.0869527\n",
      " 2.5639324  1.1213008  4.2062497  1.3195542  1.4791628  1.9235504\n",
      " 1.3569744  1.7219592  1.063668  ], Loss:2.161254405975342\n",
      "Batch accuracy:0.21568627655506134, Val accuracy:0.09488427639007568\n",
      ", Xentropy:[3.3830705  3.2389512  1.9195732  2.2511098  0.51164496 2.5091293\n",
      " 4.17817    3.8193924  0.7290281  3.349356   4.4143043  0.371442\n",
      " 0.5406557  1.405633   4.5233374  1.5860927  2.6009874  2.791921\n",
      " 0.40437168 1.5718217  3.4660852  3.6797159  0.744325   3.6219578\n",
      " 3.5307248  3.5652914  3.4678187  0.24246201 2.041141   0.35164303\n",
      " 2.5057948  1.4616715  1.8669722  2.712484   2.1057968  0.43067965\n",
      " 2.940854   1.528537   0.01460915 2.9337595  3.933209   2.8468142\n",
      " 3.3761728  3.5588145  1.2596151  1.6115835  3.1077442  2.7252638\n",
      " 0.5186205  2.469174   2.9049084 ], Loss:2.3063576221466064\n",
      "Batch accuracy:0.3137255012989044, Val accuracy:0.15031172335147858\n",
      ", Xentropy:[3.0936618  1.1125906  1.6116507  2.006723   2.0362277  1.75776\n",
      " 1.6614387  2.0148933  1.6154035  0.95939696 1.6417799  2.7065244\n",
      " 1.8098605  1.7309189  2.439393   3.7373142  0.5400037  1.6967074\n",
      " 1.0982906  0.95714664 1.8414274  2.0785022  1.7431755  2.7332103\n",
      " 1.1237154  3.9775386  4.143803   1.5337628  2.5053604  1.8041794\n",
      " 2.4300964  1.9556038  3.5142932  1.3806349  1.612733   3.1740208\n",
      " 1.493546   1.9136378  0.7288281  1.7168581  0.7625033  1.6325881\n",
      " 2.3464851  2.1242661  1.7706649  0.7946635  2.1690736  3.7946067\n",
      " 4.0925775  2.175371   2.2901366 ], Loss:2.0310890674591064\n",
      "Batch accuracy:0.29411765933036804, Val accuracy:0.1981808841228485\n",
      ", Xentropy:[3.2699242 0.944258  2.6486714 2.5069225 2.832007  2.1420374 1.0400109\n",
      " 2.0909963 3.4047155 3.450708  1.1946034 1.6403039 2.425681  1.1464972\n",
      " 2.5610752 1.8170149 2.035725  3.0580869 1.780843  2.4247847 2.222137\n",
      " 2.170173  3.227261  1.2731501 3.0041833 2.039455  1.5863512 1.6825163\n",
      " 2.6523142 2.9488685 0.772818  1.0137897 2.7119515 2.1074505 1.1870992\n",
      " 1.3853947 1.9934455 1.1023364 1.4881592 1.9022281 1.3076537 1.6406293\n",
      " 3.203528  1.1320782 0.6823086 0.9424706 1.7203231 1.6546316 0.6415337\n",
      " 2.3745494 2.408298 ], Loss:1.9724303483963013\n",
      "Batch accuracy:0.27450981736183167, Val accuracy:0.20497053861618042\n",
      ", Xentropy:[1.193421   2.9531703  2.962219   2.4994664  1.9370878  2.2487292\n",
      " 2.0863562  1.6338568  3.3562636  1.2159091  2.6224773  1.2369713\n",
      " 0.6067836  1.4315051  1.8393267  2.2258184  2.070865   2.1259995\n",
      " 1.3440572  0.7363727  2.257933   2.9819317  2.7025056  2.872806\n",
      " 1.5167133  2.2796872  1.7268488  1.1875192  0.46400917 2.7958736\n",
      " 3.0947964  0.52172565 2.3193088  2.8760026  1.5316406  2.272586\n",
      " 1.4953998  3.1902819  2.3714283  1.2100875  2.8859448  1.6839185\n",
      " 0.8017294  2.5251207  1.178781   2.462653   1.0996733  1.800068\n",
      " 2.2207155  2.8090138  1.976835  ], Loss:1.9890234470367432\n",
      "Batch accuracy:0.0, Val accuracy:0.0\n",
      ", Xentropy:[nan nan nan nan nan nan nan nan nan nan nan nan nan nan nan nan nan nan\n",
      " nan nan nan nan nan nan nan nan nan nan nan nan nan nan nan nan nan nan\n",
      " nan nan nan nan nan nan nan nan nan nan nan nan nan nan nan], Loss:nan\n"
     ]
    }
   ],
   "source": [
    "sess = tf.Session()\n",
    "sess.run(init)\n",
    "for X_batch, y_batch in shuffle_batch(X_train, y_train, batch_size):\n",
    "    sess.run(training_op, feed_dict={X:X_batch, y:y_batch})\n",
    "    acc_batch = accuracy.eval(feed_dict={X:X_batch, y:y_batch}, session=sess)\n",
    "    acc_val = accuracy.eval(feed_dict={X: X_valid, y: y_valid}, session=sess)\n",
    "    xentropy_val = xentropy.eval(feed_dict={X:X_batch, y:y_batch},session=sess)\n",
    "    loss_val = loss.eval(feed_dict={X: X_batch, y: y_batch},session=sess)\n",
    "    # loss_summary_str = loss_summary.eval(feed_dict={X:X_valid, y:y_valid})\n",
    "    # acc_summary_str = acc_summary.eval(feed_dict={X:X_valid, y:y_valid})\n",
    "    # file_writer.add_summary(loss_summary_str, epoch)\n",
    "    # file_writer.add_summary(acc_summary_str, epoch)\n",
    "    print(\"Batch accuracy:{}, Val accuracy:{}\\n, Xentropy:{}, Loss:{}\".format(acc_batch, acc_val, xentropy_val,loss_val))\n",
    "    if math.isnan(loss_val):\n",
    "        nan_X_batch = X_batch\n",
    "        nan_y_batch = y_batch\n",
    "        nan_logit = logits.eval(feed_dict={X:X_batch, y:y_batch}, session=sess)\n",
    "        break\n",
    "\n",
    "save_path = saver.save(sess, \"./my_model_final.ckpt\")\n",
    "    \n",
    "file_writer.close()"
   ]
  },
  {
   "cell_type": "code",
   "execution_count": 471,
   "metadata": {},
   "outputs": [
    {
     "data": {
      "text/plain": [
       "array([[nan, nan, nan, ..., nan, nan, nan],\n",
       "       [nan, nan, nan, ..., nan, nan, nan],\n",
       "       [nan, nan, nan, ..., nan, nan, nan],\n",
       "       ...,\n",
       "       [nan, nan, nan, ..., nan, nan, nan],\n",
       "       [nan, nan, nan, ..., nan, nan, nan],\n",
       "       [nan, nan, nan, ..., nan, nan, nan]], dtype=float32)"
      ]
     },
     "execution_count": 471,
     "metadata": {},
     "output_type": "execute_result"
    }
   ],
   "source": [
    "logits.eval(feed_dict={X:X_test, y:y_test}, session=sess)"
   ]
  },
  {
   "cell_type": "code",
   "execution_count": 427,
   "metadata": {},
   "outputs": [
    {
     "name": "stdout",
     "output_type": "stream",
     "text": [
      "Batch accuracy:1.0, Val accuracy:0.21154667437076569\n",
      ", Xentropy:[2.0893428e-03 7.4158623e-03 8.4911268e-03 2.7436493e-03 0.0000000e+00\n",
      " 2.2180497e-03 4.2650215e-03 2.1956877e-03 8.6017577e-03 7.4152709e-03\n",
      " 1.6806300e-03 8.7128486e-03 4.3043073e-02 1.4399446e-04 1.8000441e-05\n",
      " 6.8247865e-04 1.9502202e-02 4.0877839e-03 6.2034437e-03 4.6252171e-03\n",
      " 4.4753393e-03 1.3651228e-02 7.8979349e-03 9.2502356e-02 6.8390812e-03\n",
      " 3.0260745e-03 3.4957973e-04 9.0598651e-06 3.1893600e-03 5.9328168e-03\n",
      " 7.8580797e-02 1.0246767e-02 1.2326135e-02 1.0358751e-04 5.6167564e-04\n",
      " 4.6466943e-03 4.4848397e-04 4.6016038e-03 3.5062286e-03 5.1992442e-03\n",
      " 0.0000000e+00 4.0560844e-03 3.6471060e-03 5.4425634e-03 1.9468300e-02\n",
      " 2.4135765e-03 2.4402146e-03 6.4036413e-03 5.3023972e-02 3.2737069e-02], Loss:0.010437240824103355\n"
     ]
    }
   ],
   "source": [
    "sess.run(training_op, feed_dict={X:X_batch, y:y_batch})\n",
    "acc_batch = accuracy.eval(feed_dict={X:X_batch, y:y_batch}, session=sess)\n",
    "acc_val = accuracy.eval(feed_dict={X: X_valid, y: y_valid}, session=sess)\n",
    "xentropy_val = xentropy.eval(feed_dict={X:X_batch, y:y_batch},session=sess)\n",
    "loss_val = loss.eval(feed_dict={X: X_batch, y: y_batch},session=sess)\n",
    "# loss_summary_str = loss_summary.eval(feed_dict={X:X_valid, y:y_valid})\n",
    "# acc_summary_str = acc_summary.eval(feed_dict={X:X_valid, y:y_valid})\n",
    "# file_writer.add_summary(loss_summary_str, epoch)\n",
    "# file_writer.add_summary(acc_summary_str, epoch)\n",
    "print(\"Batch accuracy:{}, Val accuracy:{}\\n, Xentropy:{}, Loss:{}\".format(acc_batch, acc_val, xentropy_val,loss_val))"
   ]
  },
  {
   "cell_type": "code",
   "execution_count": 473,
   "metadata": {},
   "outputs": [
    {
     "data": {
      "text/plain": [
       "array([[nan, nan, nan, ..., nan, nan, nan],\n",
       "       [nan, nan, nan, ..., nan, nan, nan],\n",
       "       [nan, nan, nan, ..., nan, nan, nan],\n",
       "       ...,\n",
       "       [nan, nan, nan, ..., nan, nan, nan],\n",
       "       [nan, nan, nan, ..., nan, nan, nan],\n",
       "       [nan, nan, nan, ..., nan, nan, nan]], dtype=float32)"
      ]
     },
     "execution_count": 473,
     "metadata": {},
     "output_type": "execute_result"
    }
   ],
   "source": [
    "hidden1.eval(feed_dict={X:X_batch, y:y_batch}, session=sess)"
   ]
  },
  {
   "cell_type": "code",
   "execution_count": 464,
   "metadata": {},
   "outputs": [
    {
     "data": {
      "text/plain": [
       "58996"
      ]
     },
     "execution_count": 464,
     "metadata": {},
     "output_type": "execute_result"
    }
   ],
   "source": [
    "hoge = 0\n",
    "for i in y_train:\n",
    "    hoge += i\n",
    "hoge"
   ]
  },
  {
   "cell_type": "code",
   "execution_count": 647,
   "metadata": {},
   "outputs": [
    {
     "data": {
      "text/plain": [
       "array([0., 1., 0., 0., 0., 0., 0., 0., 0., 0.], dtype=float32)"
      ]
     },
     "execution_count": 647,
     "metadata": {},
     "output_type": "execute_result"
    }
   ],
   "source": [
    "sess = tf.Session()\n",
    "hoge = tf.one_hot(y_batch, depth=10).eval(session=sess)\n",
    "hoge[0]"
   ]
  },
  {
   "cell_type": "code",
   "execution_count": 640,
   "metadata": {},
   "outputs": [
    {
     "data": {
      "text/plain": [
       "array([1, 1, 8, 4, 0, 8, 4, 1, 2, 9, 4, 4, 1, 3, 2, 4, 1, 6, 0, 8, 0, 3,\n",
       "       3, 5, 7, 8, 8, 9, 8, 4, 3, 5, 6, 3, 4, 8, 2, 5, 4, 1, 4, 1, 4, 2,\n",
       "       0, 3, 8, 7, 9, 7], dtype=int32)"
      ]
     },
     "execution_count": 640,
     "metadata": {},
     "output_type": "execute_result"
    }
   ],
   "source": [
    "y_batch"
   ]
  },
  {
   "cell_type": "code",
   "execution_count": null,
   "metadata": {},
   "outputs": [],
   "source": []
  }
 ],
 "metadata": {
  "kernelspec": {
   "display_name": "Python 3",
   "language": "python",
   "name": "python3"
  },
  "language_info": {
   "codemirror_mode": {
    "name": "ipython",
    "version": 3
   },
   "file_extension": ".py",
   "mimetype": "text/x-python",
   "name": "python",
   "nbconvert_exporter": "python",
   "pygments_lexer": "ipython3",
   "version": "3.6.3"
  }
 },
 "nbformat": 4,
 "nbformat_minor": 2
}
