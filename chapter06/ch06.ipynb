{
 "cells": [
  {
   "cell_type": "markdown",
   "metadata": {},
   "source": [
    "# 第6章\n",
    "## 6.1決定木の訓練と可視化"
   ]
  },
  {
   "cell_type": "code",
   "execution_count": 1,
   "metadata": {},
   "outputs": [],
   "source": [
    "from sklearn.datasets import load_iris\n",
    "from sklearn.tree import DecisionTreeClassifier"
   ]
  },
  {
   "cell_type": "code",
   "execution_count": 3,
   "metadata": {},
   "outputs": [],
   "source": [
    "iris = load_iris()\n",
    "X = iris.data[:,2:] #花弁の幅と長さ\n",
    "y = iris.target"
   ]
  },
  {
   "cell_type": "code",
   "execution_count": 4,
   "metadata": {},
   "outputs": [
    {
     "data": {
      "text/plain": [
       "DecisionTreeClassifier(class_weight=None, criterion='gini', max_depth=2,\n",
       "            max_features=None, max_leaf_nodes=None,\n",
       "            min_impurity_decrease=0.0, min_impurity_split=None,\n",
       "            min_samples_leaf=1, min_samples_split=2,\n",
       "            min_weight_fraction_leaf=0.0, presort=False, random_state=None,\n",
       "            splitter='best')"
      ]
     },
     "execution_count": 4,
     "metadata": {},
     "output_type": "execute_result"
    }
   ],
   "source": [
    "tree_clf = DecisionTreeClassifier(max_depth=2)\n",
    "tree_clf.fit(X,y)"
   ]
  },
  {
   "cell_type": "code",
   "execution_count": 6,
   "metadata": {},
   "outputs": [],
   "source": [
    "from sklearn.tree import export_graphviz\n",
    "export_graphviz(\n",
    "    tree_clf, \n",
    "    out_file='./iris_tree.dot', \n",
    "    feature_names=iris.feature_names[2:],\n",
    "    class_names=iris.target_names,\n",
    "    rounded=True,\n",
    "    filled=True)"
   ]
  },
  {
   "cell_type": "markdown",
   "metadata": {},
   "source": [
    "`dot -Tpng iris_tree.dot -o iris_tree.png`を行う\n",
    "![図](./iris_tree.png)"
   ]
  },
  {
   "cell_type": "markdown",
   "metadata": {},
   "source": [
    "## 6.2 決定木による予測\n",
    "上の図のような条件分岐で予測される。  \n",
    "gini係数→valueの中の不順度  \n",
    "緑ノードでは$1-(\\frac{0}{54})^2 - (\\frac{49}{54})^2 - (\\frac{5}{54})^2 \\approx0.168$"
   ]
  },
  {
   "cell_type": "code",
   "execution_count": 71,
   "metadata": {
    "scrolled": true
   },
   "outputs": [
    {
     "data": {
      "text/plain": [
       "[<matplotlib.lines.Line2D at 0x120524828>]"
      ]
     },
     "execution_count": 71,
     "metadata": {},
     "output_type": "execute_result"
    },
    {
     "data": {
      "image/png": "[encoded data removed]",
      "text/plain": [
       "<Figure size 576x288 with 1 Axes>"
      ]
     },
     "metadata": {
      "needs_background": "light"
     },
     "output_type": "display_data"
    }
   ],
   "source": [
    "import numpy as np\n",
    "import matplotlib\n",
    "import matplotlib.pyplot as plt\n",
    "\n",
    "def plot_decision_boundary(clf, X, y, axes=[0, 7.5, 0, 3], iris=True, legend=False, plot_training=True):\n",
    "    _x1 = np.linspace(axes[0], axes[1], 100)\n",
    "    _x2 = np.linspace(axes[2], axes[3], 100)\n",
    "    x1,x2 = np.meshgrid(_x1, _x2)\n",
    "    X_new = np.c_[x1.ravel(), x2.ravel()]\n",
    "    y_pred =clf.predict(X_new).reshape(x1.shape)\n",
    "    custom_cmap = matplotlib.colors.ListedColormap(['#fafab0','#9898ff','#a0faa0'])\n",
    "    plt.contourf(x1, x2, y_pred, cmap=custom_cmap, alpha=0.3)\n",
    "    if not iris:\n",
    "        custom_cmap2 = matplotlib.colors.ListedColormap(['#7d7d58','#4c4c7f','#507d50'])\n",
    "        plt.contour(x1, x2, y_pred, cmap=custom_cmap2, alpha=0.8)\n",
    "    if plot_training:\n",
    "        plt.plot(X[:,0][y==0], X[:,1][y==0], 'yo',label=\"Iris-Setosa\")\n",
    "        plt.plot(X[:,0][y==1], X[:,1][y==1], 'bs',label=\"Iris-Versicolor\")\n",
    "        plt.plot(X[:,0][y==2], X[:,1][y==2], 'g^',label=\"Iris-Virginica\")\n",
    "        plt.axis(axes)\n",
    "    if iris:\n",
    "        plt.xlabel(\"petal length\", fontsize=14)\n",
    "        plt.ylabel(\"petal width\", fontsize=14)\n",
    "    else:\n",
    "        plt.xlabel(r\"$x_1$\", fontsize=18)\n",
    "        plt.ylabel(r\"$x_2$\", fontsize=18, rotation=0)\n",
    "    if legend:\n",
    "        plt.legend(loc=\"lower right\", fontsize=14)\n",
    "    \n",
    "plt.figure(figsize=(8,4))\n",
    "plot_decision_boundary(tree_clf, X, y)\n",
    "\n",
    "#決定境界(上の画像から読み取る)\n",
    "plt.plot([2.45, 2.45], [0, 3], 'k-')\n",
    "plt.plot([2.45, 7.5], [1.75, 1.75], 'k--') "
   ]
  },
  {
   "cell_type": "markdown",
   "metadata": {},
   "source": [
    "## 6.3 クラスの確率の推計\n",
    "決定木は確率も出せる。その際の確率はvalueから計算される"
   ]
  },
  {
   "cell_type": "code",
   "execution_count": 41,
   "metadata": {},
   "outputs": [
    {
     "data": {
      "text/plain": [
       "array([[0.        , 0.90740741, 0.09259259]])"
      ]
     },
     "execution_count": 41,
     "metadata": {},
     "output_type": "execute_result"
    }
   ],
   "source": [
    "tree_clf.predict_proba([[5,1.5]])"
   ]
  },
  {
   "cell_type": "markdown",
   "metadata": {},
   "source": [
    "## 6.4 CART訓練アルゴリズム\n",
    "sklearnにおけるDecisionTreeの訓練アルゴリズムはCART(Classification and Regression Tree)アルゴリズムである　　\n",
    "\n",
    "分類の特徴量$k$とその閾値$t_k$の探索方法.以下のコスト関数を最小化させるようにする  \n",
    "\n",
    "\n",
    "$$\n",
    "J(k,t_k) = \\frac{m_{left}}{m}G_{left} + \\frac{m_{right}}{m}G_{right}\\\\\n",
    "G:不順度\\\\\n",
    "m:インスタンス数\n",
    "$$\n"
   ]
  },
  {
   "cell_type": "markdown",
   "metadata": {},
   "source": [
    "## 6.5計算量, 6.6 ジニ不純度かエントロピーか\n",
    "省略"
   ]
  },
  {
   "cell_type": "markdown",
   "metadata": {},
   "source": [
    "## 6.7 正則化ハイパーパラメータ\n",
    "ノンパラメトリックモデル: パラメータを持たない(or 多すぎる）と自由度が大きすぎて過学習してしまいやすいこと  \n",
    "パラメトリックモデル: 逆  \n",
    "自由度を下げること→正則化  \n",
    "sklearn.tree.DecisionTreeClassifierクラスのハイパーパラメータは公式ドキュメントをみてください  \n",
    "min_sample_leafを制限すると以下のようになる"
   ]
  },
  {
   "cell_type": "code",
   "execution_count": 50,
   "metadata": {},
   "outputs": [
    {
     "data": {
      "text/plain": [
       "DecisionTreeClassifier(class_weight=None, criterion='gini', max_depth=None,\n",
       "            max_features=None, max_leaf_nodes=None,\n",
       "            min_impurity_decrease=0.0, min_impurity_split=None,\n",
       "            min_samples_leaf=4, min_samples_split=2,\n",
       "            min_weight_fraction_leaf=0.0, presort=False, random_state=42,\n",
       "            splitter='best')"
      ]
     },
     "execution_count": 50,
     "metadata": {},
     "output_type": "execute_result"
    }
   ],
   "source": [
    "from sklearn.datasets import make_moons\n",
    "\n",
    "Xm, ym = make_moons(n_samples=100, noise=0.25, random_state=53)\n",
    "\n",
    "deep_tree_clf_default = DecisionTreeClassifier(random_state=42)\n",
    "deep_tree_clf_min_sample_leaf_limitted = DecisionTreeClassifier(min_samples_leaf=4, random_state=42)\n",
    "deep_tree_clf_default.fit(Xm,ym)\n",
    "deep_tree_clf_min_sample_leaf_limitted.fit(Xm,ym)"
   ]
  },
  {
   "cell_type": "code",
   "execution_count": 73,
   "metadata": {},
   "outputs": [
    {
     "data": {
      "image/png": "[encoded data removed]",
      "text/plain": [
       "<Figure size 792x288 with 2 Axes>"
      ]
     },
     "metadata": {
      "needs_background": "light"
     },
     "output_type": "display_data"
    }
   ],
   "source": [
    "plt.figure(figsize=(11,4))\n",
    "plt.subplot(121)\n",
    "plot_decision_boundary(deep_tree_clf_default, Xm, ym, axes=[-1.5, 2.5, -1,1.5], iris=False)\n",
    "plt.title(\"No restrictions\", fontsize=16)\n",
    "plt.subplot(122)\n",
    "plot_decision_boundary(deep_tree_clf_min_sample_leaf_limitted, Xm, ym,axes=[-1.5, 2.5, -1,1.5], iris=False)\n",
    "plt.title(\"min_samples_leaf = {}\".format(deep_tree_clf_min_sample_leaf_limitted.min_samples_leaf), fontsize=14)\n",
    "plt.show()"
   ]
  },
  {
   "cell_type": "markdown",
   "metadata": {},
   "source": [
    "## 6.8回帰\n",
    "分類だけでなく、回帰もできる"
   ]
  },
  {
   "cell_type": "code",
   "execution_count": 74,
   "metadata": {},
   "outputs": [],
   "source": [
    "from sklearn.tree import DecisionTreeRegressor\n",
    "\n",
    "np.random.seed(42)\n",
    "m = 200\n",
    "X = np.random.rand(m, 1)\n",
    "y = 4 * (X - 0.5) ** 2\n",
    "y = y + np.random.randn(m, 1) / 10\n",
    "\n",
    "tree_reg = DecisionTreeRegressor(max_depth=2)\n",
    "tree_reg.fit(X,y)\n",
    "export_graphviz(\n",
    "    tree_reg, \n",
    "    out_file='./regression_tree.dot', \n",
    "    feature_names=[\"x1\"],\n",
    "    rounded=True,\n",
    "    filled=True)"
   ]
  },
  {
   "cell_type": "markdown",
   "metadata": {},
   "source": [
    "![hoge](./regression_tree.png)"
   ]
  },
  {
   "cell_type": "code",
   "execution_count": 94,
   "metadata": {},
   "outputs": [
    {
     "data": {
      "text/plain": [
       "[0, 1, -0.2, 1]"
      ]
     },
     "execution_count": 94,
     "metadata": {},
     "output_type": "execute_result"
    },
    {
     "data": {
      "image/png": "[encoded data removed]",
      "text/plain": [
       "<Figure size 432x288 with 1 Axes>"
      ]
     },
     "metadata": {
      "needs_background": "light"
     },
     "output_type": "display_data"
    }
   ],
   "source": [
    "plt.plot(X,y,'b.')\n",
    "plt.plot([0.0, 0.092],[0.854,0.854],'r-',linewidth=3)\n",
    "plt.plot([0.092, 0.197],[0.552, 0.552],'r-',linewidth=3)\n",
    "plt.plot([0.197, 0.772],[0.111, 0.111],'r-',linewidth=3)\n",
    "plt.plot([0.772, 1],[0.615, 0.615],'r-',linewidth=3)\n",
    "\n",
    "plt.plot([0.092, 0.092], [0.854, 0.552], 'k--', linewidth=3)\n",
    "plt.plot([0.197, 0.197], [0.552, 0.111], 'k--',linewidth=3)\n",
    "plt.plot([0.772, 0.772], [0.111, 0.615], 'k--',linewidth=3)\n",
    "\n",
    "plt.axis([0, 1, -0.2, 1])"
   ]
  },
  {
   "cell_type": "markdown",
   "metadata": {},
   "source": [
    "回帰は平均2乗誤差をコスト関数とする"
   ]
  },
  {
   "cell_type": "markdown",
   "metadata": {},
   "source": [
    "## 6.9不安定さ\n",
    "* 決定木はデータの回転に弱いこと  \n",
    "* 訓練セットの小さな変化に敏感"
   ]
  },
  {
   "cell_type": "code",
   "execution_count": null,
   "metadata": {},
   "outputs": [],
   "source": []
  }
 ],
 "metadata": {
  "kernelspec": {
   "display_name": "Python 3",
   "language": "python",
   "name": "python3"
  },
  "language_info": {
   "codemirror_mode": {
    "name": "ipython",
    "version": 3
   },
   "file_extension": ".py",
   "mimetype": "text/x-python",
   "name": "python",
   "nbconvert_exporter": "python",
   "pygments_lexer": "ipython3",
   "version": "3.6.3"
  }
 },
 "nbformat": 4,
 "nbformat_minor": 2
}
